{
  "cells": [
    {
      "cell_type": "markdown",
      "metadata": {
        "id": "view-in-github",
        "colab_type": "text"
      },
      "source": [
        "<a href=\"https://colab.research.google.com/github/StrizhAXE/ML_in_busyness/blob/main/HW6.ipynb\" target=\"_parent\"><img src=\"https://colab.research.google.com/assets/colab-badge.svg\" alt=\"Open In Colab\"/></a>"
      ]
    },
    {
      "cell_type": "markdown",
      "metadata": {
        "id": "-wY_h9vZxu67"
      },
      "source": [
        "Расмотрим пример на датасете из репозитория UCI\n",
        "\n",
        "Описание данных - https://archive.ics.uci.edu/ml/datasets/APS+Failure+at+Scania+Trucks#"
      ]
    },
    {
      "cell_type": "code",
      "source": [
        "import pandas as pd\n",
        "import numpy as np\n",
        "# import itertools\n",
        "\n",
        "# from sklearn.model_selection import train_test_split, cross_val_score\n",
        "# from sklearn.base import BaseEstimator, TransformerMixin\n",
        "# from sklearn.pipeline import Pipeline, make_pipeline\n",
        "# from sklearn.linear_model import LogisticRegression\n",
        "# from sklearn.metrics import precision_recall_curve, roc_curve, roc_auc_score, log_loss, confusion_matrix\n",
        "\n",
        "# import matplotlib.pyplot as plt\n",
        "# import seaborn as sns\n",
        "\n",
        "import warnings\n",
        "warnings.filterwarnings('ignore')\n",
        "\n",
        "path  = 'd:\\\\GeekBrains\\\\Q4\\\\ML_in_busyness\\\\APS Failure at Scania Trucks Data Set\\\\'"
      ],
      "metadata": {
        "id": "DIwIoq8uyuVs"
      },
      "execution_count": 1,
      "outputs": []
    },
    {
      "cell_type": "code",
      "execution_count": 2,
      "metadata": {
        "id": "YT1DO7k1xu7B",
        "colab": {
          "base_uri": "https://localhost:8080/",
          "height": 193
        },
        "outputId": "07cd049d-dee4-4416-a1de-d844f9bd32ba"
      },
      "outputs": [
        {
          "output_type": "execute_result",
          "data": {
            "text/plain": [
              "  class  aa_000 ab_000      ac_000 ad_000 ae_000 af_000 ag_000 ag_001 ag_002  \\\n",
              "0   neg   76698     na  2130706438    280      0      0      0      0      0   \n",
              "1   neg   33058     na           0     na      0      0      0      0      0   \n",
              "2   neg   41040     na         228    100      0      0      0      0      0   \n",
              "\n",
              "   ...   ee_002  ee_003  ee_004  ee_005  ee_006  ee_007 ee_008 ee_009 ef_000  \\\n",
              "0  ...  1240520  493384  721044  469792  339156  157956  73224      0      0   \n",
              "1  ...   421400  178064  293306  245416  133654   81140  97576   1500      0   \n",
              "2  ...   277378  159812  423992  409564  320746  158022  95128    514      0   \n",
              "\n",
              "  eg_000  \n",
              "0      0  \n",
              "1      0  \n",
              "2      0  \n",
              "\n",
              "[3 rows x 171 columns]"
            ],
            "text/html": [
              "<div>\n",
              "<style scoped>\n",
              "    .dataframe tbody tr th:only-of-type {\n",
              "        vertical-align: middle;\n",
              "    }\n",
              "\n",
              "    .dataframe tbody tr th {\n",
              "        vertical-align: top;\n",
              "    }\n",
              "\n",
              "    .dataframe thead th {\n",
              "        text-align: right;\n",
              "    }\n",
              "</style>\n",
              "<table border=\"1\" class=\"dataframe\">\n",
              "  <thead>\n",
              "    <tr style=\"text-align: right;\">\n",
              "      <th></th>\n",
              "      <th>class</th>\n",
              "      <th>aa_000</th>\n",
              "      <th>ab_000</th>\n",
              "      <th>ac_000</th>\n",
              "      <th>ad_000</th>\n",
              "      <th>ae_000</th>\n",
              "      <th>af_000</th>\n",
              "      <th>ag_000</th>\n",
              "      <th>ag_001</th>\n",
              "      <th>ag_002</th>\n",
              "      <th>...</th>\n",
              "      <th>ee_002</th>\n",
              "      <th>ee_003</th>\n",
              "      <th>ee_004</th>\n",
              "      <th>ee_005</th>\n",
              "      <th>ee_006</th>\n",
              "      <th>ee_007</th>\n",
              "      <th>ee_008</th>\n",
              "      <th>ee_009</th>\n",
              "      <th>ef_000</th>\n",
              "      <th>eg_000</th>\n",
              "    </tr>\n",
              "  </thead>\n",
              "  <tbody>\n",
              "    <tr>\n",
              "      <th>0</th>\n",
              "      <td>neg</td>\n",
              "      <td>76698</td>\n",
              "      <td>na</td>\n",
              "      <td>2130706438</td>\n",
              "      <td>280</td>\n",
              "      <td>0</td>\n",
              "      <td>0</td>\n",
              "      <td>0</td>\n",
              "      <td>0</td>\n",
              "      <td>0</td>\n",
              "      <td>...</td>\n",
              "      <td>1240520</td>\n",
              "      <td>493384</td>\n",
              "      <td>721044</td>\n",
              "      <td>469792</td>\n",
              "      <td>339156</td>\n",
              "      <td>157956</td>\n",
              "      <td>73224</td>\n",
              "      <td>0</td>\n",
              "      <td>0</td>\n",
              "      <td>0</td>\n",
              "    </tr>\n",
              "    <tr>\n",
              "      <th>1</th>\n",
              "      <td>neg</td>\n",
              "      <td>33058</td>\n",
              "      <td>na</td>\n",
              "      <td>0</td>\n",
              "      <td>na</td>\n",
              "      <td>0</td>\n",
              "      <td>0</td>\n",
              "      <td>0</td>\n",
              "      <td>0</td>\n",
              "      <td>0</td>\n",
              "      <td>...</td>\n",
              "      <td>421400</td>\n",
              "      <td>178064</td>\n",
              "      <td>293306</td>\n",
              "      <td>245416</td>\n",
              "      <td>133654</td>\n",
              "      <td>81140</td>\n",
              "      <td>97576</td>\n",
              "      <td>1500</td>\n",
              "      <td>0</td>\n",
              "      <td>0</td>\n",
              "    </tr>\n",
              "    <tr>\n",
              "      <th>2</th>\n",
              "      <td>neg</td>\n",
              "      <td>41040</td>\n",
              "      <td>na</td>\n",
              "      <td>228</td>\n",
              "      <td>100</td>\n",
              "      <td>0</td>\n",
              "      <td>0</td>\n",
              "      <td>0</td>\n",
              "      <td>0</td>\n",
              "      <td>0</td>\n",
              "      <td>...</td>\n",
              "      <td>277378</td>\n",
              "      <td>159812</td>\n",
              "      <td>423992</td>\n",
              "      <td>409564</td>\n",
              "      <td>320746</td>\n",
              "      <td>158022</td>\n",
              "      <td>95128</td>\n",
              "      <td>514</td>\n",
              "      <td>0</td>\n",
              "      <td>0</td>\n",
              "    </tr>\n",
              "  </tbody>\n",
              "</table>\n",
              "<p>3 rows × 171 columns</p>\n",
              "</div>"
            ]
          },
          "metadata": {},
          "execution_count": 2
        }
      ],
      "source": [
        "data = pd.read_csv(path+\"aps_failure_training_set.csv\",index_col=False)\n",
        "data_test = pd.read_csv(path+\"aps_failure_test_set.csv\",index_col=False)\n",
        "data.head(3)"
      ]
    },
    {
      "cell_type": "code",
      "source": [
        "data['class'] = data['class'].map({'pos':1, 'neg':0})\n",
        "data_test['class'] = data_test['class'].map({'pos':1, 'neg':0})\n",
        "data.sample(5)"
      ],
      "metadata": {
        "id": "H523fVQsFF0o",
        "colab": {
          "base_uri": "https://localhost:8080/",
          "height": 255
        },
        "outputId": "ff1dd2f9-522f-4466-a660-e0e746d94108"
      },
      "execution_count": 3,
      "outputs": [
        {
          "output_type": "execute_result",
          "data": {
            "text/plain": [
              "       class  aa_000 ab_000      ac_000 ad_000 ae_000 af_000 ag_000 ag_001  \\\n",
              "39045      0   80368     na  2130706432    898      0      0      0      0   \n",
              "25529      0    4130      0          20     20      0      0      0      0   \n",
              "45075      0      12      0           0     na      0      0      0      0   \n",
              "29406      0      10      0           0      0      0      0      0      0   \n",
              "23512      0   41450     na         122     88      0      0      0      0   \n",
              "\n",
              "      ag_002  ...  ee_002  ee_003  ee_004  ee_005  ee_006  ee_007  ee_008  \\\n",
              "39045      0  ...  608032  326848  627538  574502  454786  349076  583292   \n",
              "25529      0  ...   12468    9492   20840   20468   36816   77964     282   \n",
              "45075      0  ...      34      10      24      52      24      64       0   \n",
              "29406      0  ...      46       8      32      16      70      82       0   \n",
              "23512      0  ...  525386  344790  854058  307922    2074       4       0   \n",
              "\n",
              "      ee_009 ef_000 eg_000  \n",
              "39045  23076      0      0  \n",
              "25529      0      0      0  \n",
              "45075      0      0      0  \n",
              "29406      0      0      0  \n",
              "23512      0      0      0  \n",
              "\n",
              "[5 rows x 171 columns]"
            ],
            "text/html": [
              "<div>\n",
              "<style scoped>\n",
              "    .dataframe tbody tr th:only-of-type {\n",
              "        vertical-align: middle;\n",
              "    }\n",
              "\n",
              "    .dataframe tbody tr th {\n",
              "        vertical-align: top;\n",
              "    }\n",
              "\n",
              "    .dataframe thead th {\n",
              "        text-align: right;\n",
              "    }\n",
              "</style>\n",
              "<table border=\"1\" class=\"dataframe\">\n",
              "  <thead>\n",
              "    <tr style=\"text-align: right;\">\n",
              "      <th></th>\n",
              "      <th>class</th>\n",
              "      <th>aa_000</th>\n",
              "      <th>ab_000</th>\n",
              "      <th>ac_000</th>\n",
              "      <th>ad_000</th>\n",
              "      <th>ae_000</th>\n",
              "      <th>af_000</th>\n",
              "      <th>ag_000</th>\n",
              "      <th>ag_001</th>\n",
              "      <th>ag_002</th>\n",
              "      <th>...</th>\n",
              "      <th>ee_002</th>\n",
              "      <th>ee_003</th>\n",
              "      <th>ee_004</th>\n",
              "      <th>ee_005</th>\n",
              "      <th>ee_006</th>\n",
              "      <th>ee_007</th>\n",
              "      <th>ee_008</th>\n",
              "      <th>ee_009</th>\n",
              "      <th>ef_000</th>\n",
              "      <th>eg_000</th>\n",
              "    </tr>\n",
              "  </thead>\n",
              "  <tbody>\n",
              "    <tr>\n",
              "      <th>39045</th>\n",
              "      <td>0</td>\n",
              "      <td>80368</td>\n",
              "      <td>na</td>\n",
              "      <td>2130706432</td>\n",
              "      <td>898</td>\n",
              "      <td>0</td>\n",
              "      <td>0</td>\n",
              "      <td>0</td>\n",
              "      <td>0</td>\n",
              "      <td>0</td>\n",
              "      <td>...</td>\n",
              "      <td>608032</td>\n",
              "      <td>326848</td>\n",
              "      <td>627538</td>\n",
              "      <td>574502</td>\n",
              "      <td>454786</td>\n",
              "      <td>349076</td>\n",
              "      <td>583292</td>\n",
              "      <td>23076</td>\n",
              "      <td>0</td>\n",
              "      <td>0</td>\n",
              "    </tr>\n",
              "    <tr>\n",
              "      <th>25529</th>\n",
              "      <td>0</td>\n",
              "      <td>4130</td>\n",
              "      <td>0</td>\n",
              "      <td>20</td>\n",
              "      <td>20</td>\n",
              "      <td>0</td>\n",
              "      <td>0</td>\n",
              "      <td>0</td>\n",
              "      <td>0</td>\n",
              "      <td>0</td>\n",
              "      <td>...</td>\n",
              "      <td>12468</td>\n",
              "      <td>9492</td>\n",
              "      <td>20840</td>\n",
              "      <td>20468</td>\n",
              "      <td>36816</td>\n",
              "      <td>77964</td>\n",
              "      <td>282</td>\n",
              "      <td>0</td>\n",
              "      <td>0</td>\n",
              "      <td>0</td>\n",
              "    </tr>\n",
              "    <tr>\n",
              "      <th>45075</th>\n",
              "      <td>0</td>\n",
              "      <td>12</td>\n",
              "      <td>0</td>\n",
              "      <td>0</td>\n",
              "      <td>na</td>\n",
              "      <td>0</td>\n",
              "      <td>0</td>\n",
              "      <td>0</td>\n",
              "      <td>0</td>\n",
              "      <td>0</td>\n",
              "      <td>...</td>\n",
              "      <td>34</td>\n",
              "      <td>10</td>\n",
              "      <td>24</td>\n",
              "      <td>52</td>\n",
              "      <td>24</td>\n",
              "      <td>64</td>\n",
              "      <td>0</td>\n",
              "      <td>0</td>\n",
              "      <td>0</td>\n",
              "      <td>0</td>\n",
              "    </tr>\n",
              "    <tr>\n",
              "      <th>29406</th>\n",
              "      <td>0</td>\n",
              "      <td>10</td>\n",
              "      <td>0</td>\n",
              "      <td>0</td>\n",
              "      <td>0</td>\n",
              "      <td>0</td>\n",
              "      <td>0</td>\n",
              "      <td>0</td>\n",
              "      <td>0</td>\n",
              "      <td>0</td>\n",
              "      <td>...</td>\n",
              "      <td>46</td>\n",
              "      <td>8</td>\n",
              "      <td>32</td>\n",
              "      <td>16</td>\n",
              "      <td>70</td>\n",
              "      <td>82</td>\n",
              "      <td>0</td>\n",
              "      <td>0</td>\n",
              "      <td>0</td>\n",
              "      <td>0</td>\n",
              "    </tr>\n",
              "    <tr>\n",
              "      <th>23512</th>\n",
              "      <td>0</td>\n",
              "      <td>41450</td>\n",
              "      <td>na</td>\n",
              "      <td>122</td>\n",
              "      <td>88</td>\n",
              "      <td>0</td>\n",
              "      <td>0</td>\n",
              "      <td>0</td>\n",
              "      <td>0</td>\n",
              "      <td>0</td>\n",
              "      <td>...</td>\n",
              "      <td>525386</td>\n",
              "      <td>344790</td>\n",
              "      <td>854058</td>\n",
              "      <td>307922</td>\n",
              "      <td>2074</td>\n",
              "      <td>4</td>\n",
              "      <td>0</td>\n",
              "      <td>0</td>\n",
              "      <td>0</td>\n",
              "      <td>0</td>\n",
              "    </tr>\n",
              "  </tbody>\n",
              "</table>\n",
              "<p>5 rows × 171 columns</p>\n",
              "</div>"
            ]
          },
          "metadata": {},
          "execution_count": 3
        }
      ]
    },
    {
      "cell_type": "markdown",
      "metadata": {
        "id": "lUhWXdLgxu7D"
      },
      "source": [
        "У нас есть 170 признаков и 1 целевая переменная (бинарная) - нужно определить какая деталь вышла из строя APS (pos) или нет (neg)"
      ]
    },
    {
      "cell_type": "code",
      "execution_count": 4,
      "metadata": {
        "id": "lo62zyA0xu7D",
        "colab": {
          "base_uri": "https://localhost:8080/"
        },
        "outputId": "c8f7d5c0-85ff-48ed-c2c9-f8cc6199c4c7"
      },
      "outputs": [
        {
          "output_type": "stream",
          "name": "stdout",
          "text": [
            "(60000, 171)\n"
          ]
        }
      ],
      "source": [
        "print(data.shape)"
      ]
    },
    {
      "cell_type": "markdown",
      "metadata": {
        "id": "kx7uwJc3xu7E"
      },
      "source": [
        "Всего 60000 деталей"
      ]
    },
    {
      "cell_type": "markdown",
      "metadata": {
        "id": "bVx75VKyxu7E"
      },
      "source": [
        "Посмотрим на соотношение классов"
      ]
    },
    {
      "cell_type": "code",
      "execution_count": 5,
      "metadata": {
        "id": "G4wZKwsYxu7E",
        "colab": {
          "base_uri": "https://localhost:8080/"
        },
        "outputId": "23fb0977-8808-40ef-cf60-c61e16d1b5fe"
      },
      "outputs": [
        {
          "output_type": "execute_result",
          "data": {
            "text/plain": [
              "0    59000\n",
              "1     1000\n",
              "Name: class, dtype: int64"
            ]
          },
          "metadata": {},
          "execution_count": 5
        }
      ],
      "source": [
        "data.iloc[:, 0].value_counts()"
      ]
    },
    {
      "cell_type": "markdown",
      "metadata": {
        "id": "lKBE5byhxu7F"
      },
      "source": [
        "Обучаем модель catboost"
      ]
    },
    {
      "cell_type": "code",
      "execution_count": 6,
      "metadata": {
        "id": "7HmYnyEqxu7F"
      },
      "outputs": [],
      "source": [
        "x_train = data.iloc[:,1:]\n",
        "y_train = data.iloc[:,0]\n",
        "x_test =  data_test.iloc[:,1:]\n",
        "y_test =  data_test.iloc[:,0]"
      ]
    },
    {
      "cell_type": "code",
      "execution_count": 7,
      "metadata": {
        "id": "iK279bXPxu7G"
      },
      "outputs": [],
      "source": [
        "from catboost import CatBoostClassifier\n",
        "model = CatBoostClassifier(iterations=100,\n",
        "                           learning_rate=1,\n",
        "                           depth=5,\n",
        "                           train_dir=path+'Catboost')"
      ]
    },
    {
      "cell_type": "code",
      "source": [
        "model.fit(x_train, y_train, verbose=False)\n",
        "y_predict = model.predict(x_test)"
      ],
      "metadata": {
        "id": "TM0VNiwP7N6I"
      },
      "execution_count": 8,
      "outputs": []
    },
    {
      "cell_type": "markdown",
      "metadata": {
        "id": "lgFqA2e0xu7H"
      },
      "source": [
        "Проверяем качество"
      ]
    },
    {
      "cell_type": "code",
      "execution_count": 9,
      "metadata": {
        "id": "T3sxaqu8xu7H"
      },
      "outputs": [],
      "source": [
        "from sklearn.metrics import recall_score, precision_score, roc_auc_score, accuracy_score, f1_score\n",
        "\n",
        "def evaluate_results(y_test, y_predict):\n",
        "    print('Classification results:')\n",
        "    f1 = f1_score(y_test, y_predict)\n",
        "    print(\"f1: %.2f%%\" % (f1 * 100.0)) \n",
        "    roc = roc_auc_score(y_test, y_predict)\n",
        "    print(\"roc: %.2f%%\" % (roc * 100.0)) \n",
        "    rec = recall_score(y_test, y_predict, average='binary')\n",
        "    print(\"recall: %.2f%%\" % (rec * 100.0)) \n",
        "    prc = precision_score(y_test, y_predict, average='binary')\n",
        "    print(\"precision: %.2f%%\" % (prc * 100.0))\n",
        "    return  f1, roc, rec, prc"
      ]
    },
    {
      "cell_type": "code",
      "source": [
        "metrics_def = evaluate_results(np.array(y_test), np.array(y_predict))"
      ],
      "metadata": {
        "id": "8Lji_kv4Kjlg",
        "colab": {
          "base_uri": "https://localhost:8080/"
        },
        "outputId": "7e2f4a53-dd1c-4354-e900-ff71957c24c8"
      },
      "execution_count": 10,
      "outputs": [
        {
          "output_type": "stream",
          "name": "stdout",
          "text": [
            "Classification results:\n",
            "f1: 79.88%\n",
            "roc: 85.90%\n",
            "recall: 72.00%\n",
            "precision: 89.70%\n"
          ]
        }
      ]
    },
    {
      "cell_type": "code",
      "source": [
        "metrics = {}\n",
        "metrics.update({'metrics_def':(['f1', metrics_def[0]], ['roc', metrics_def[1]], ['recall', metrics_def[2]], ['precision_score', metrics_def[3]])})"
      ],
      "metadata": {
        "id": "gh2uwUl1KT8b"
      },
      "execution_count": 12,
      "outputs": []
    },
    {
      "cell_type": "markdown",
      "metadata": {
        "id": "oB-p8vkExu7H"
      },
      "source": [
        "### Теперь очередь за PU learning"
      ]
    },
    {
      "cell_type": "markdown",
      "metadata": {
        "id": "lJBYCvVOxu7I"
      },
      "source": [
        "Представим, что нам неизвестны негативы и часть позитивов"
      ]
    },
    {
      "cell_type": "code",
      "execution_count": 13,
      "metadata": {
        "id": "irBuy9e9xu7I",
        "colab": {
          "base_uri": "https://localhost:8080/"
        },
        "outputId": "8396d833-9f0d-45d1-b760-f739c70ca012"
      },
      "outputs": [
        {
          "output_type": "stream",
          "name": "stdout",
          "text": [
            "Using 500/1000 as positives and unlabeling the rest\n"
          ]
        }
      ],
      "source": [
        "mod_data = data.copy()\n",
        "#get the indices of the positives samples\n",
        "pos_ind = np.where(mod_data.iloc[:,0].values == 1)[0]\n",
        "#shuffle them\n",
        "np.random.shuffle(pos_ind)\n",
        "# leave just 25% of the positives marked\n",
        "pos_sample_len = int(np.ceil(0.5 * len(pos_ind)))\n",
        "print(f'Using {pos_sample_len}/{len(pos_ind)} as positives and unlabeling the rest')\n",
        "pos_sample = pos_ind[:pos_sample_len]"
      ]
    },
    {
      "cell_type": "markdown",
      "metadata": {
        "id": "xTdGrrafxu7I"
      },
      "source": [
        "Создаем столбец для новой целевой переменной, где у нас два класса - P (1) и U (-1)"
      ]
    },
    {
      "cell_type": "code",
      "execution_count": 14,
      "metadata": {
        "id": "jNMBxpbsxu7J",
        "colab": {
          "base_uri": "https://localhost:8080/"
        },
        "outputId": "79f4344c-8610-47f4-b7aa-e4d486563e50"
      },
      "outputs": [
        {
          "output_type": "stream",
          "name": "stdout",
          "text": [
            "target variable:\n",
            " -1    59500\n",
            " 1      500\n",
            "Name: class_test, dtype: int64\n"
          ]
        }
      ],
      "source": [
        "mod_data['class_test'] = -1\n",
        "mod_data.loc[pos_sample,'class_test'] = 1\n",
        "print('target variable:\\n', mod_data.iloc[:,-1].value_counts())"
      ]
    },
    {
      "cell_type": "markdown",
      "metadata": {
        "id": "AUnUHeTuxu7J"
      },
      "source": [
        "* We now have just 59750 positive samples labeled as 1 in the 'class_test' col while the rest is unlabeled as -1."
      ]
    },
    {
      "cell_type": "code",
      "execution_count": 15,
      "metadata": {
        "id": "E-hyiTRWxu7J",
        "colab": {
          "base_uri": "https://localhost:8080/",
          "height": 255
        },
        "outputId": "66f8e59f-9a4d-403a-98d0-fac5018ba0a2"
      },
      "outputs": [
        {
          "output_type": "execute_result",
          "data": {
            "text/plain": [
              "       class  aa_000 ab_000      ac_000 ad_000 ae_000 af_000 ag_000 ag_001  \\\n",
              "30680      1  669782     na        1024    316      0      0      0      0   \n",
              "54065      0   56354     na         180    180      0      0      0      0   \n",
              "37926      0   39094     na  2130706436    182      0      0      0      0   \n",
              "39016      0   62196     na          76     76      0      0      0      0   \n",
              "27056      0    2840      0  2130706432     12      0      0      0      0   \n",
              "\n",
              "      ag_002  ...  ee_003  ee_004  ee_005  ee_006  ee_007  ee_008 ee_009  \\\n",
              "30680      0  ...       0       0       0       0       0       0      0   \n",
              "54065      0  ...  246618  490668  487902  329826  201090  261062   3870   \n",
              "37926      0  ...  168104  435702  474560  304696   72162   36866    134   \n",
              "39016      0  ...  357234  529548  250208  349634  369768     672      0   \n",
              "27056      0  ...    2962   10436   22176   32586   43442     174      0   \n",
              "\n",
              "      ef_000 eg_000 class_test  \n",
              "30680      0      0         -1  \n",
              "54065      0      0         -1  \n",
              "37926      0      0         -1  \n",
              "39016      0      0         -1  \n",
              "27056      0      0         -1  \n",
              "\n",
              "[5 rows x 172 columns]"
            ],
            "text/html": [
              "<div>\n",
              "<style scoped>\n",
              "    .dataframe tbody tr th:only-of-type {\n",
              "        vertical-align: middle;\n",
              "    }\n",
              "\n",
              "    .dataframe tbody tr th {\n",
              "        vertical-align: top;\n",
              "    }\n",
              "\n",
              "    .dataframe thead th {\n",
              "        text-align: right;\n",
              "    }\n",
              "</style>\n",
              "<table border=\"1\" class=\"dataframe\">\n",
              "  <thead>\n",
              "    <tr style=\"text-align: right;\">\n",
              "      <th></th>\n",
              "      <th>class</th>\n",
              "      <th>aa_000</th>\n",
              "      <th>ab_000</th>\n",
              "      <th>ac_000</th>\n",
              "      <th>ad_000</th>\n",
              "      <th>ae_000</th>\n",
              "      <th>af_000</th>\n",
              "      <th>ag_000</th>\n",
              "      <th>ag_001</th>\n",
              "      <th>ag_002</th>\n",
              "      <th>...</th>\n",
              "      <th>ee_003</th>\n",
              "      <th>ee_004</th>\n",
              "      <th>ee_005</th>\n",
              "      <th>ee_006</th>\n",
              "      <th>ee_007</th>\n",
              "      <th>ee_008</th>\n",
              "      <th>ee_009</th>\n",
              "      <th>ef_000</th>\n",
              "      <th>eg_000</th>\n",
              "      <th>class_test</th>\n",
              "    </tr>\n",
              "  </thead>\n",
              "  <tbody>\n",
              "    <tr>\n",
              "      <th>30680</th>\n",
              "      <td>1</td>\n",
              "      <td>669782</td>\n",
              "      <td>na</td>\n",
              "      <td>1024</td>\n",
              "      <td>316</td>\n",
              "      <td>0</td>\n",
              "      <td>0</td>\n",
              "      <td>0</td>\n",
              "      <td>0</td>\n",
              "      <td>0</td>\n",
              "      <td>...</td>\n",
              "      <td>0</td>\n",
              "      <td>0</td>\n",
              "      <td>0</td>\n",
              "      <td>0</td>\n",
              "      <td>0</td>\n",
              "      <td>0</td>\n",
              "      <td>0</td>\n",
              "      <td>0</td>\n",
              "      <td>0</td>\n",
              "      <td>-1</td>\n",
              "    </tr>\n",
              "    <tr>\n",
              "      <th>54065</th>\n",
              "      <td>0</td>\n",
              "      <td>56354</td>\n",
              "      <td>na</td>\n",
              "      <td>180</td>\n",
              "      <td>180</td>\n",
              "      <td>0</td>\n",
              "      <td>0</td>\n",
              "      <td>0</td>\n",
              "      <td>0</td>\n",
              "      <td>0</td>\n",
              "      <td>...</td>\n",
              "      <td>246618</td>\n",
              "      <td>490668</td>\n",
              "      <td>487902</td>\n",
              "      <td>329826</td>\n",
              "      <td>201090</td>\n",
              "      <td>261062</td>\n",
              "      <td>3870</td>\n",
              "      <td>0</td>\n",
              "      <td>0</td>\n",
              "      <td>-1</td>\n",
              "    </tr>\n",
              "    <tr>\n",
              "      <th>37926</th>\n",
              "      <td>0</td>\n",
              "      <td>39094</td>\n",
              "      <td>na</td>\n",
              "      <td>2130706436</td>\n",
              "      <td>182</td>\n",
              "      <td>0</td>\n",
              "      <td>0</td>\n",
              "      <td>0</td>\n",
              "      <td>0</td>\n",
              "      <td>0</td>\n",
              "      <td>...</td>\n",
              "      <td>168104</td>\n",
              "      <td>435702</td>\n",
              "      <td>474560</td>\n",
              "      <td>304696</td>\n",
              "      <td>72162</td>\n",
              "      <td>36866</td>\n",
              "      <td>134</td>\n",
              "      <td>0</td>\n",
              "      <td>0</td>\n",
              "      <td>-1</td>\n",
              "    </tr>\n",
              "    <tr>\n",
              "      <th>39016</th>\n",
              "      <td>0</td>\n",
              "      <td>62196</td>\n",
              "      <td>na</td>\n",
              "      <td>76</td>\n",
              "      <td>76</td>\n",
              "      <td>0</td>\n",
              "      <td>0</td>\n",
              "      <td>0</td>\n",
              "      <td>0</td>\n",
              "      <td>0</td>\n",
              "      <td>...</td>\n",
              "      <td>357234</td>\n",
              "      <td>529548</td>\n",
              "      <td>250208</td>\n",
              "      <td>349634</td>\n",
              "      <td>369768</td>\n",
              "      <td>672</td>\n",
              "      <td>0</td>\n",
              "      <td>0</td>\n",
              "      <td>0</td>\n",
              "      <td>-1</td>\n",
              "    </tr>\n",
              "    <tr>\n",
              "      <th>27056</th>\n",
              "      <td>0</td>\n",
              "      <td>2840</td>\n",
              "      <td>0</td>\n",
              "      <td>2130706432</td>\n",
              "      <td>12</td>\n",
              "      <td>0</td>\n",
              "      <td>0</td>\n",
              "      <td>0</td>\n",
              "      <td>0</td>\n",
              "      <td>0</td>\n",
              "      <td>...</td>\n",
              "      <td>2962</td>\n",
              "      <td>10436</td>\n",
              "      <td>22176</td>\n",
              "      <td>32586</td>\n",
              "      <td>43442</td>\n",
              "      <td>174</td>\n",
              "      <td>0</td>\n",
              "      <td>0</td>\n",
              "      <td>0</td>\n",
              "      <td>-1</td>\n",
              "    </tr>\n",
              "  </tbody>\n",
              "</table>\n",
              "<p>5 rows × 172 columns</p>\n",
              "</div>"
            ]
          },
          "metadata": {},
          "execution_count": 15
        }
      ],
      "source": [
        "mod_data.sample(5)"
      ]
    },
    {
      "cell_type": "markdown",
      "metadata": {
        "id": "_fU9eqxzxu7K"
      },
      "source": [
        "Remember that this data frame (x_data) includes the former target variable that we keep here just to compare the results\n",
        "\n",
        "[:-2] is the original class label for positive and negative data [:-1] is the new class for positive and unlabeled data"
      ]
    },
    {
      "cell_type": "code",
      "execution_count": 16,
      "metadata": {
        "id": "GSGAQEdoxu7K"
      },
      "outputs": [],
      "source": [
        "x_data = mod_data.iloc[:,1:-1].values # just the X \n",
        "y_labeled = mod_data.iloc[:,-1].values # new class (just the P & U)\n",
        "y_positive = mod_data.iloc[:,0].values # original class"
      ]
    },
    {
      "cell_type": "markdown",
      "metadata": {
        "id": "Mzv4AwHfxu7L"
      },
      "source": [
        "### 1. random negative sampling"
      ]
    },
    {
      "cell_type": "code",
      "execution_count": 17,
      "metadata": {
        "scrolled": true,
        "id": "n6Pg3Y0Kxu7M",
        "colab": {
          "base_uri": "https://localhost:8080/"
        },
        "outputId": "f60d6164-3a0b-4e9e-fb74-a9fab809f5d5"
      },
      "outputs": [
        {
          "output_type": "stream",
          "name": "stdout",
          "text": [
            "(500, 172) (500, 172)\n"
          ]
        }
      ],
      "source": [
        "mod_data = mod_data.sample(frac=1)\n",
        "neg_sample = mod_data[mod_data['class_test']==-1][:len(mod_data[mod_data['class_test']==1])]\n",
        "sample_test = mod_data[mod_data['class_test']==-1][len(mod_data[mod_data['class_test']==1]):]\n",
        "pos_sample = mod_data[mod_data['class_test']==1]\n",
        "print(neg_sample.shape, pos_sample.shape)\n",
        "sample_train = pd.concat([neg_sample, pos_sample]).sample(frac=1)"
      ]
    },
    {
      "cell_type": "code",
      "source": [
        "model_mod = CatBoostClassifier(iterations=100,\n",
        "                           learning_rate=1,\n",
        "                           depth=5,\n",
        "                           train_dir=path+'Catboost')"
      ],
      "metadata": {
        "id": "TkDiT9CcGy2e"
      },
      "execution_count": 18,
      "outputs": []
    },
    {
      "cell_type": "code",
      "execution_count": 19,
      "metadata": {
        "id": "a1-B73knxu7N"
      },
      "outputs": [],
      "source": [
        "model_mod.fit(sample_train.iloc[:,1:-1].values, \n",
        "              sample_train.iloc[:,0].values,\n",
        "              verbose=False)\n",
        "y_predict = model_mod.predict(sample_test.iloc[:,1:-1].values)"
      ]
    },
    {
      "cell_type": "code",
      "source": [
        "metrics_mod = evaluate_results(np.array(sample_test.iloc[:,0].values), np.array(y_predict))"
      ],
      "metadata": {
        "id": "Ci7nk5wHL7hY",
        "colab": {
          "base_uri": "https://localhost:8080/"
        },
        "outputId": "a5a74810-e42e-4b9b-9b80-828f4f7a33d7"
      },
      "execution_count": 20,
      "outputs": [
        {
          "output_type": "stream",
          "name": "stdout",
          "text": [
            "Classification results:\n",
            "f1: 24.25%\n",
            "roc: 94.89%\n",
            "recall: 94.77%\n",
            "precision: 13.91%\n"
          ]
        }
      ]
    },
    {
      "cell_type": "code",
      "source": [
        "metrics.update({'metrics_mod':(['f1', metrics_mod[0]], ['roc', metrics_mod[1]], ['recall', metrics_mod[2]], ['precision_score', metrics_mod[3]])})\n"
      ],
      "metadata": {
        "id": "Woez0rOeMiT_"
      },
      "execution_count": 21,
      "outputs": []
    },
    {
      "cell_type": "code",
      "source": [
        "metrics.get('metrics_def'), metrics.get('metrics_mod')\n"
      ],
      "metadata": {
        "id": "5Pv29YMCKE0q",
        "colab": {
          "base_uri": "https://localhost:8080/"
        },
        "outputId": "5f966a6d-6993-4218-bf6b-7787cd09e9d4"
      },
      "execution_count": 22,
      "outputs": [
        {
          "output_type": "execute_result",
          "data": {
            "text/plain": [
              "((['f1', 0.7988165680473372],\n",
              "  ['roc', 0.859008],\n",
              "  ['recall', 0.72],\n",
              "  ['precision_score', 0.8970099667774086]),\n",
              " (['f1', 0.24253347064881567],\n",
              "  ['roc', 0.9489212594679919],\n",
              "  ['recall', 0.9476861167002012],\n",
              "  ['precision_score', 0.13906111603188662]))"
            ]
          },
          "metadata": {},
          "execution_count": 22
        }
      ]
    },
    {
      "cell_type": "markdown",
      "source": [
        "При использовании random negative sampling лучше ROC и Recall, но при этом хуже precision и f1_score\n"
      ],
      "metadata": {
        "id": "4VU69ATRQDNO"
      }
    },
    {
      "cell_type": "markdown",
      "metadata": {
        "id": "g6BL71qhxu7N"
      },
      "source": [
        "### Домашнее задание\n",
        "\n",
        "1. взять любой набор данных для бинарной классификации (можно скачать один из модельных с https://archive.ics.uci.edu/ml/datasets.php)\n",
        "3. сделать feature engineering\n",
        "4. обучить любой классификатор (какой вам нравится)\n",
        "5. далее разделить ваш набор данных на два множества: P (positives) и U (unlabeled). Причем брать нужно не все положительные (класс 1) примеры, а только лишь часть\n",
        "6. применить random negative sampling для построения классификатора в новых условиях\n",
        "7. сравнить качество с решением из пункта 4 (построить отчет - таблицу метрик)\n",
        "8. поэкспериментировать с долей P на шаге 5 (как будет меняться качество модели при уменьшении/увеличении размера P)"
      ]
    }
  ],
  "metadata": {
    "kernelspec": {
      "display_name": "Python 3",
      "language": "python",
      "name": "python3"
    },
    "language_info": {
      "codemirror_mode": {
        "name": "ipython",
        "version": 3
      },
      "file_extension": ".py",
      "mimetype": "text/x-python",
      "name": "python",
      "nbconvert_exporter": "python",
      "pygments_lexer": "ipython3",
      "version": "3.7.3"
    },
    "colab": {
      "name": "HW6.ipynb",
      "provenance": [],
      "collapsed_sections": [],
      "include_colab_link": true
    }
  },
  "nbformat": 4,
  "nbformat_minor": 0
}