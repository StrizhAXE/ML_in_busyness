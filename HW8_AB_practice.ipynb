{
  "cells": [
    {
      "cell_type": "markdown",
      "metadata": {
        "id": "view-in-github",
        "colab_type": "text"
      },
      "source": [
        "<a href=\"https://colab.research.google.com/github/StrizhAXE/ML_in_busyness/blob/main/HW8_AB_practice.ipynb\" target=\"_parent\"><img src=\"https://colab.research.google.com/assets/colab-badge.svg\" alt=\"Open In Colab\"/></a>"
      ]
    },
    {
      "cell_type": "markdown",
      "metadata": {
        "id": "_0At21pUS0Uo"
      },
      "source": [
        "### Занятие 8. АБ-тестирование (проверяем все в онлайн-экспериментах)"
      ]
    },
    {
      "cell_type": "markdown",
      "metadata": {
        "id": "SyYXVO3RS0Ur"
      },
      "source": [
        "### План занятия\n",
        "\n",
        "1. вспоминаем самое первое занятие\n",
        "2. \"типичное\" устройство АБ-тестов\n",
        "3. метрики для сравнения\n",
        "4. оценка размера выборки ДО проведения эксперимента\n",
        "5. параметрические и непараметрические критерии"
      ]
    },
    {
      "cell_type": "markdown",
      "metadata": {
        "id": "8eLMZ9AdS0Us"
      },
      "source": [
        "Пример как может выглядеть решение задачи бизнеса с помощью ML\n",
        "\n",
        "<img src=\"tdsp-lifecycle2.png\" alt=\"TDSP\" style=\"width: 800px;\" align=\"center\"/>"
      ]
    },
    {
      "cell_type": "markdown",
      "metadata": {
        "id": "4_18eYa_S0Us"
      },
      "source": [
        "Если же сделать процесс более \"линейным\", то он может выглядеть так:\n",
        "\n",
        "Проблема -> Анализ -> Продуктовая гипотеза -> Метрики и критерии приемки -> ML решение -> AB-тестирование -> Оценка результатов -> Интеграция с другими командами"
      ]
    },
    {
      "cell_type": "markdown",
      "metadata": {
        "id": "5ylxd_5_S0Ut"
      },
      "source": [
        "#### Что такое \"продуктовая гипотеза\"?"
      ]
    },
    {
      "cell_type": "markdown",
      "metadata": {
        "id": "ndjTafxmS0Ut"
      },
      "source": [
        "Предположение о том, что мы ожидаем при том или ином изменении в продукте (новый функционал вроде системы рекомендаций или улучшение уже существующего). Под изменением обычно подразумевается улучшение некоторой бизнес-метрики. "
      ]
    },
    {
      "cell_type": "markdown",
      "metadata": {
        "id": "4bUGqfkPS0Uu"
      },
      "source": [
        "### Пример - сервис для чтения книг онлайн"
      ]
    },
    {
      "cell_type": "markdown",
      "metadata": {
        "id": "plYEjI3hS0Uu"
      },
      "source": [
        "- чтение книг онлайн\n",
        "- монетизация в основном за счет подписок + платный контент\n",
        "- стабильный DAU**\n",
        "<img src=\"books.png\" alt=\"reading\" style=\"width: 400px;\" align=\"right\"/>\n",
        "\n",
        "** DAU (daily active users) - число уникальных пользователей за сутки"
      ]
    },
    {
      "cell_type": "markdown",
      "metadata": {
        "id": "ccqyrT4_S0Uv"
      },
      "source": [
        "Что же мы хотим сделать? - улучшить наш сервис, чтобы он стал более удобным для пользователей и более прибыльным для бизнеса."
      ]
    },
    {
      "cell_type": "markdown",
      "metadata": {
        "id": "n_kGyT-lS0Uw"
      },
      "source": [
        "Один из вариантов это сделать - <b>персональные рекомендации</b>**\n",
        "\n",
        "** по персональным рекомендациям и как такие системы строятся - есть курс на geekbrains"
      ]
    },
    {
      "cell_type": "markdown",
      "metadata": {
        "id": "-zdXK2bgS0Uw"
      },
      "source": [
        "Предположим, что мы со своей частью справляемся и можем сделать простейшую систему рекомендаций книг.\n",
        "\n",
        "Что дальше?"
      ]
    },
    {
      "cell_type": "markdown",
      "metadata": {
        "id": "7RsQl5UjS0Uw"
      },
      "source": [
        "## Сразу в \"прод\"?\n",
        "<img src=\"good_enough.jpg\" alt=\"good_enough\" style=\"width: 200px;\" align=\"center\"/>"
      ]
    },
    {
      "cell_type": "markdown",
      "metadata": {
        "id": "Clwc7hudS0Ux"
      },
      "source": [
        "## Конечно же нет!"
      ]
    },
    {
      "cell_type": "markdown",
      "metadata": {
        "id": "vs1_8j3QS0Ux"
      },
      "source": [
        "#### Что нам нужно сделать?\n",
        "\n",
        "1. Формулировка задачи и выбор метрики (DS)\n",
        "2. Сбор данных и подготовка датасета\n",
        "3. Построение модели (обучение)\n",
        "4. Оборачивание всего этого в пайплайн обучения (для того, чтобы использовать в production)\n",
        "5. Оценка результатов и проведение экспериментов\n",
        "6. Мониторинг качества, логгирование"
      ]
    },
    {
      "cell_type": "markdown",
      "metadata": {
        "id": "LktZaX_BS0Ux"
      },
      "source": [
        "### Практический пример 1\n",
        "\n",
        "Допустим, что мы занимаемся рекомендациями в интернет-магазине.<br>\n",
        "У нас уже есть рекомендательная система на основе метода A. \n",
        "\n",
        "При этом в результате исследований метод B показал лучшие по сравнению с А офлайн-метрики (обычно ML-метрики)"
      ]
    },
    {
      "cell_type": "markdown",
      "metadata": {
        "id": "AWUQHBejS0Uy"
      },
      "source": [
        "Означает ли, что такое решение будет лучше и с точки зрения бизнес-метрик? - Необязательно, мы должны будем это проверить. "
      ]
    },
    {
      "cell_type": "markdown",
      "metadata": {
        "id": "r4UMSXWlS0Uy"
      },
      "source": [
        "#### Вопрос 1\n",
        "А что если альтернативных вариантов очень много - как выбирать? \n",
        "\n",
        "Выбирать по трудозатратности и предвательным метрикам.\n",
        "\n",
        "#### Вопрос 2\n",
        "Почему мы не можем тестировать их все? Или можем?\n",
        "\n",
        "Можно тестировать их все, но это займет много ресурсов. \n",
        "Надо выбирать наиболее перспективные."
      ]
    },
    {
      "cell_type": "markdown",
      "metadata": {
        "id": "eu9n-tMjS0Uy"
      },
      "source": [
        "### Метрика для нашего примера?\n",
        "\n",
        "В случае с рекомендательной системой может быть много разных метрик, которые нам в итоге будут интересны:\n",
        "\n",
        "1. arpu (average revenue per user) - средняя выручка одного пользователя\n",
        "2. appu (average purchases per user) - среднее количество покупок на пользователя\n",
        "3. crp (conversion rate payment) - доля пользователей, совершивших платеж\n",
        "4. retention_N_day - удержание N-го дня\n",
        "5. etc\n",
        "\n",
        "*не всегда эти метрики связаны с revenue (например, количество кликов по баннеру или количество кликов по рекомендуемому фильму/книге/песне и т.д)"
      ]
    },
    {
      "cell_type": "markdown",
      "metadata": {
        "id": "AyyQnoGkS0Uz"
      },
      "source": [
        "#### Вопрос 3\n",
        "Можно ли измерять сразу несколько метрик?\n",
        "\n",
        "Можно измерять сразу несколько метрик"
      ]
    },
    {
      "cell_type": "markdown",
      "metadata": {
        "id": "AI-uqwicS0Uz"
      },
      "source": [
        "#### Вопрос 4\n",
        "Какие вы можете придумать \"комбинированные\" метрики?\n",
        "\n",
        "- Частота покупок пользователя\n",
        "- Средняя сумма в зависимости от времени совершения покупки"
      ]
    },
    {
      "cell_type": "markdown",
      "metadata": {
        "id": "RTjCZeGKS0Uz"
      },
      "source": [
        "### АБ тестирование\n",
        "\n",
        "Предположим что с метрикой мы определились (вообще - на практике обычно измеряют сразу несколько метрик).\n",
        "\n",
        "Далее мы собрали данные и обучили новую рекомендательную модель. Настало время проверить ее на практике и сравнить по выбранным метрикам с текущим решением!\n",
        "\n",
        "Как может быть устроен АБ-тест:"
      ]
    },
    {
      "cell_type": "markdown",
      "metadata": {
        "id": "qEZXR9CzS0U0"
      },
      "source": [
        "![ab_split](ab1.png \"AB split\")"
      ]
    },
    {
      "cell_type": "markdown",
      "metadata": {
        "id": "cs2VJkVCS0U0"
      },
      "source": [
        "Конечно же групп может быть гораздо больше (если позволяет размер аудитории и дизайн эксперимента), но такой случай не только самый простой в плане проведения, но и оценки результатов. "
      ]
    },
    {
      "cell_type": "markdown",
      "metadata": {
        "id": "k7T2M2VbS0U0"
      },
      "source": [
        "#### Вопрос 6\n",
        "\n",
        "Каким должно быть соотношение размеров выборок? (спойлер - вопрос нетривиальный)\n",
        "\n",
        "Соотношение должно быть оптимальным. Так чтобы тестовая группа была показательной и статистически весомой."
      ]
    },
    {
      "cell_type": "markdown",
      "metadata": {
        "id": "CC5O6rG1S0U0"
      },
      "source": [
        "Итак, предположим, что мы запустили АБ тест и подождали, когда накопится статистика"
      ]
    },
    {
      "cell_type": "markdown",
      "metadata": {
        "id": "GBw9DFqoS0U0"
      },
      "source": [
        "Загрузим данные"
      ]
    },
    {
      "cell_type": "code",
      "execution_count": null,
      "metadata": {
        "id": "eZct5s3YS0U1"
      },
      "outputs": [],
      "source": [
        "import pandas as pd"
      ]
    },
    {
      "cell_type": "code",
      "execution_count": null,
      "metadata": {
        "id": "ocP9UF17S0U1",
        "outputId": "c412443f-1321-42df-d417-7b5142704e77"
      },
      "outputs": [
        {
          "data": {
            "text/html": [
              "<div>\n",
              "<style scoped>\n",
              "    .dataframe tbody tr th:only-of-type {\n",
              "        vertical-align: middle;\n",
              "    }\n",
              "\n",
              "    .dataframe tbody tr th {\n",
              "        vertical-align: top;\n",
              "    }\n",
              "\n",
              "    .dataframe thead th {\n",
              "        text-align: right;\n",
              "    }\n",
              "</style>\n",
              "<table border=\"1\" class=\"dataframe\">\n",
              "  <thead>\n",
              "    <tr style=\"text-align: right;\">\n",
              "      <th></th>\n",
              "      <th>revenue</th>\n",
              "      <th>num_purchases</th>\n",
              "      <th>purchase</th>\n",
              "      <th>ab_group</th>\n",
              "    </tr>\n",
              "  </thead>\n",
              "  <tbody>\n",
              "    <tr>\n",
              "      <th>0</th>\n",
              "      <td>0.0</td>\n",
              "      <td>0.0</td>\n",
              "      <td>0</td>\n",
              "      <td>A</td>\n",
              "    </tr>\n",
              "    <tr>\n",
              "      <th>1</th>\n",
              "      <td>0.0</td>\n",
              "      <td>0.0</td>\n",
              "      <td>0</td>\n",
              "      <td>B</td>\n",
              "    </tr>\n",
              "    <tr>\n",
              "      <th>2</th>\n",
              "      <td>0.0</td>\n",
              "      <td>0.0</td>\n",
              "      <td>0</td>\n",
              "      <td>A</td>\n",
              "    </tr>\n",
              "  </tbody>\n",
              "</table>\n",
              "</div>"
            ],
            "text/plain": [
              "   revenue  num_purchases  purchase ab_group\n",
              "0      0.0            0.0         0        A\n",
              "1      0.0            0.0         0        B\n",
              "2      0.0            0.0         0        A"
            ]
          },
          "execution_count": 21,
          "metadata": {},
          "output_type": "execute_result"
        }
      ],
      "source": [
        "data = pd.read_csv(\"ab_stats.csv\")\n",
        "data.head(3)"
      ]
    },
    {
      "cell_type": "markdown",
      "metadata": {
        "id": "SvSJhgWXS0U2"
      },
      "source": [
        "Посмотрим на группы отдельно"
      ]
    },
    {
      "cell_type": "code",
      "execution_count": null,
      "metadata": {
        "id": "4SxuTfUnS0U2",
        "outputId": "336a1c39-5fcf-48cf-bde8-c0a4abde6fd4"
      },
      "outputs": [
        {
          "data": {
            "text/html": [
              "<div>\n",
              "<style scoped>\n",
              "    .dataframe tbody tr th:only-of-type {\n",
              "        vertical-align: middle;\n",
              "    }\n",
              "\n",
              "    .dataframe tbody tr th {\n",
              "        vertical-align: top;\n",
              "    }\n",
              "\n",
              "    .dataframe thead th {\n",
              "        text-align: right;\n",
              "    }\n",
              "</style>\n",
              "<table border=\"1\" class=\"dataframe\">\n",
              "  <thead>\n",
              "    <tr style=\"text-align: right;\">\n",
              "      <th></th>\n",
              "      <th>revenue</th>\n",
              "      <th>num_purchases</th>\n",
              "      <th>purchase</th>\n",
              "    </tr>\n",
              "  </thead>\n",
              "  <tbody>\n",
              "    <tr>\n",
              "      <th>count</th>\n",
              "      <td>11835.000000</td>\n",
              "      <td>11835.000000</td>\n",
              "      <td>11835.000000</td>\n",
              "    </tr>\n",
              "    <tr>\n",
              "      <th>mean</th>\n",
              "      <td>0.404462</td>\n",
              "      <td>0.050697</td>\n",
              "      <td>0.021631</td>\n",
              "    </tr>\n",
              "    <tr>\n",
              "      <th>std</th>\n",
              "      <td>13.133218</td>\n",
              "      <td>1.467511</td>\n",
              "      <td>0.145481</td>\n",
              "    </tr>\n",
              "    <tr>\n",
              "      <th>min</th>\n",
              "      <td>0.000000</td>\n",
              "      <td>0.000000</td>\n",
              "      <td>0.000000</td>\n",
              "    </tr>\n",
              "    <tr>\n",
              "      <th>25%</th>\n",
              "      <td>0.000000</td>\n",
              "      <td>0.000000</td>\n",
              "      <td>0.000000</td>\n",
              "    </tr>\n",
              "    <tr>\n",
              "      <th>50%</th>\n",
              "      <td>0.000000</td>\n",
              "      <td>0.000000</td>\n",
              "      <td>0.000000</td>\n",
              "    </tr>\n",
              "    <tr>\n",
              "      <th>75%</th>\n",
              "      <td>0.000000</td>\n",
              "      <td>0.000000</td>\n",
              "      <td>0.000000</td>\n",
              "    </tr>\n",
              "    <tr>\n",
              "      <th>max</th>\n",
              "      <td>1303.609284</td>\n",
              "      <td>152.000000</td>\n",
              "      <td>1.000000</td>\n",
              "    </tr>\n",
              "  </tbody>\n",
              "</table>\n",
              "</div>"
            ],
            "text/plain": [
              "            revenue  num_purchases      purchase\n",
              "count  11835.000000   11835.000000  11835.000000\n",
              "mean       0.404462       0.050697      0.021631\n",
              "std       13.133218       1.467511      0.145481\n",
              "min        0.000000       0.000000      0.000000\n",
              "25%        0.000000       0.000000      0.000000\n",
              "50%        0.000000       0.000000      0.000000\n",
              "75%        0.000000       0.000000      0.000000\n",
              "max     1303.609284     152.000000      1.000000"
            ]
          },
          "execution_count": 22,
          "metadata": {},
          "output_type": "execute_result"
        }
      ],
      "source": [
        "data[data['ab_group']=='A'].describe()"
      ]
    },
    {
      "cell_type": "markdown",
      "metadata": {
        "id": "FPB4TkyLS0U2"
      },
      "source": [
        "Группа B"
      ]
    },
    {
      "cell_type": "code",
      "execution_count": null,
      "metadata": {
        "id": "2fcs8tsnS0U2",
        "outputId": "1400b2d6-9401-42d6-ad1d-2df8f7c90637"
      },
      "outputs": [
        {
          "data": {
            "text/html": [
              "<div>\n",
              "<style scoped>\n",
              "    .dataframe tbody tr th:only-of-type {\n",
              "        vertical-align: middle;\n",
              "    }\n",
              "\n",
              "    .dataframe tbody tr th {\n",
              "        vertical-align: top;\n",
              "    }\n",
              "\n",
              "    .dataframe thead th {\n",
              "        text-align: right;\n",
              "    }\n",
              "</style>\n",
              "<table border=\"1\" class=\"dataframe\">\n",
              "  <thead>\n",
              "    <tr style=\"text-align: right;\">\n",
              "      <th></th>\n",
              "      <th>revenue</th>\n",
              "      <th>num_purchases</th>\n",
              "      <th>purchase</th>\n",
              "    </tr>\n",
              "  </thead>\n",
              "  <tbody>\n",
              "    <tr>\n",
              "      <th>count</th>\n",
              "      <td>11817.000000</td>\n",
              "      <td>11817.000000</td>\n",
              "      <td>11817.000000</td>\n",
              "    </tr>\n",
              "    <tr>\n",
              "      <th>mean</th>\n",
              "      <td>0.244794</td>\n",
              "      <td>0.036473</td>\n",
              "      <td>0.019802</td>\n",
              "    </tr>\n",
              "    <tr>\n",
              "      <th>std</th>\n",
              "      <td>3.176534</td>\n",
              "      <td>0.418480</td>\n",
              "      <td>0.139325</td>\n",
              "    </tr>\n",
              "    <tr>\n",
              "      <th>min</th>\n",
              "      <td>0.000000</td>\n",
              "      <td>0.000000</td>\n",
              "      <td>0.000000</td>\n",
              "    </tr>\n",
              "    <tr>\n",
              "      <th>25%</th>\n",
              "      <td>0.000000</td>\n",
              "      <td>0.000000</td>\n",
              "      <td>0.000000</td>\n",
              "    </tr>\n",
              "    <tr>\n",
              "      <th>50%</th>\n",
              "      <td>0.000000</td>\n",
              "      <td>0.000000</td>\n",
              "      <td>0.000000</td>\n",
              "    </tr>\n",
              "    <tr>\n",
              "      <th>75%</th>\n",
              "      <td>0.000000</td>\n",
              "      <td>0.000000</td>\n",
              "      <td>0.000000</td>\n",
              "    </tr>\n",
              "    <tr>\n",
              "      <th>max</th>\n",
              "      <td>113.830000</td>\n",
              "      <td>25.000000</td>\n",
              "      <td>1.000000</td>\n",
              "    </tr>\n",
              "  </tbody>\n",
              "</table>\n",
              "</div>"
            ],
            "text/plain": [
              "            revenue  num_purchases      purchase\n",
              "count  11817.000000   11817.000000  11817.000000\n",
              "mean       0.244794       0.036473      0.019802\n",
              "std        3.176534       0.418480      0.139325\n",
              "min        0.000000       0.000000      0.000000\n",
              "25%        0.000000       0.000000      0.000000\n",
              "50%        0.000000       0.000000      0.000000\n",
              "75%        0.000000       0.000000      0.000000\n",
              "max      113.830000      25.000000      1.000000"
            ]
          },
          "execution_count": 23,
          "metadata": {},
          "output_type": "execute_result"
        }
      ],
      "source": [
        "data[data['ab_group']=='B'].describe()"
      ]
    },
    {
      "cell_type": "markdown",
      "metadata": {
        "id": "JzvDDjd5S0U3"
      },
      "source": [
        "Пока мы еще ничего не посчитали, но уже можно заметить, что максимальный чек в первой группе сильно больше, чем в группе B. Все мы знаем, что среднее очень неустойчиво к выбросам, так что нам необходимо будет это учесть."
      ]
    },
    {
      "cell_type": "markdown",
      "metadata": {
        "id": "G4ehDefZS0U3"
      },
      "source": [
        "Итак, начнем с того, что рассмотрим, какие вообще бывают статистические критерии"
      ]
    },
    {
      "cell_type": "markdown",
      "metadata": {
        "id": "Y-Lq0pwiS0U3"
      },
      "source": [
        "![ab_split](classification-non-parametric-1.png \"AB parametric\")"
      ]
    },
    {
      "cell_type": "markdown",
      "metadata": {
        "id": "7RqOqrthS0U3"
      },
      "source": [
        "Если мы делаем предположение о нормальности распределения выбранной величины, то мы выбираем параметрические критерии - они как правило в такой ситуации являются более мощными.\n",
        "\n",
        "Если же мы не может делать такое предположение, то наш выбор - непараметрические критерии."
      ]
    },
    {
      "cell_type": "markdown",
      "metadata": {
        "id": "UsyiYtEAS0U3"
      },
      "source": [
        "Параметрические тесты основаны на нормальном распределении. Вспомним как оно выглядит:\n",
        "\n",
        "<img src=\"normal_distr.png\" alt=\"Normal distribution\" style=\"width: 560px;\" align=\"center\"/>\n",
        "\n",
        "Нормальное распределение:\n",
        "\n",
        "* унимодально\n",
        "* симметрично\n",
        "* отклонения от среднего подчиняются конкретному вероятностному закону\n",
        "\n",
        "Например: \n",
        "1. в диапазоне +- 1sigma* у нас лежит примерно 68.3% наблюдений \n",
        "2. в диапазоне +- 2sigma у нас лежит примерно 95.4% наблюдений\n",
        "\n",
        "*sigma - стандартное отклонение"
      ]
    },
    {
      "cell_type": "markdown",
      "metadata": {
        "id": "PhIcFLGyS0U3"
      },
      "source": [
        "<b>Почему для нас это важно?</b> - вспомним центральную предельную теорему"
      ]
    },
    {
      "cell_type": "markdown",
      "metadata": {
        "id": "w2YYeBkZS0U4"
      },
      "source": [
        "<b>Пример задачи</b>\n",
        "\n",
        "Вам дают монетку и просят оценить, насколько она \"честная\". Т.е вас просят сравнить значение вероятности выпадения орла с теоретическим значением 0.5.\n",
        "\n",
        "По центральной предельной теореме (https://en.wikipedia.org/wiki/Central_limit_theorem), если мы будем семплировать и считать средние, то распределение этих средних будет <b>нормальным</b> и позволит нам оценить истинное значение некоторого параметра в генеральной совокупности. \n",
        "\n",
        "![CLT](CPT.png \"Central limit theorem\")\n",
        "\n",
        "Например, мы пытаемся оценить значение некоторого параметра по имеющейся выборке (обозначим как X). Допустим, что это вероятность выпадения орла в серии бросков одной и той же монетки (обозначим данный параметр как p). У нас схема Бернулли, зависящая от параметра p (он нам неизвестен).\n",
        "\n",
        "![bernouli](bernouli.png \"bernouli\")\n",
        "\n",
        "Мы проводим серию бросков, а затем начинаем семлировать из полученной выборки и считать долю выпавших орлов на каждом шаге (k раз). Получаем уже последовательность из k выборочных значений вероятности выпадения орла (выборочные средние). Далее строим распределение из полученных значений и оно, по мере увеличения семплов, будет все больше похоже на нормальное. \n",
        "\n",
        "При этом параметры такого распределения будут mu и <b>s</b>, где mu - истинное значение параметра в генеральной совокупности, а s называют стандартной ошибкой среднего (<b>SE</b> - Standard Error).\n",
        "\n",
        "![cpt1](cpt1.png \"CPT\")\n",
        "\n",
        "Здесь s - это стандартное отклонение нашей выборки, n - размер выборки\n",
        "\n",
        "s рассчитывается так, потому что у нас распределение Бернулли и формулы для него такие:\n",
        "\n",
        "![bernouli2](bernouli2.png \"bernouli2\")\n",
        "\n",
        "Математическое ожидание такого распределения равно выборочному p, а стандартное отклонение SE.\n",
        "\n",
        "Получаем:\n",
        "1. нормальное распределение\n",
        "2. параметры известны (математическое ожидание и дисперсия)\n",
        "3. можем рассчитать доверительные интервалы и делать выводы"
      ]
    },
    {
      "cell_type": "markdown",
      "metadata": {
        "id": "7IoD1soFS0U4"
      },
      "source": [
        "Критериев вообще существует великое множество, но выбор конкретного критерия будет также зависеть и от того, какая у вас метрика:"
      ]
    },
    {
      "cell_type": "markdown",
      "metadata": {
        "id": "vbCH3kg5S0U4"
      },
      "source": [
        "источник - http://www.market-journal.com/marketingovyeissledovanija/161.html\n",
        "\n",
        "<img src=\"parametric_nonparametric.jpg\" alt=\"AB parametric/nonparametric\" style=\"width: 600px;\" align=\"center\"/>"
      ]
    },
    {
      "cell_type": "markdown",
      "metadata": {
        "id": "bu55z3zmS0U4"
      },
      "source": [
        "Итак, давайте рассмотрем на нашем примере"
      ]
    },
    {
      "cell_type": "code",
      "execution_count": null,
      "metadata": {
        "id": "JK5NVASfS0U4",
        "outputId": "11b23df1-1af0-44ad-ab6b-ef32685393f1"
      },
      "outputs": [
        {
          "data": {
            "text/html": [
              "<div>\n",
              "<style scoped>\n",
              "    .dataframe tbody tr th:only-of-type {\n",
              "        vertical-align: middle;\n",
              "    }\n",
              "\n",
              "    .dataframe tbody tr th {\n",
              "        vertical-align: top;\n",
              "    }\n",
              "\n",
              "    .dataframe thead th {\n",
              "        text-align: right;\n",
              "    }\n",
              "</style>\n",
              "<table border=\"1\" class=\"dataframe\">\n",
              "  <thead>\n",
              "    <tr style=\"text-align: right;\">\n",
              "      <th></th>\n",
              "      <th>revenue</th>\n",
              "      <th>num_purchases</th>\n",
              "      <th>purchase</th>\n",
              "      <th>ab_group</th>\n",
              "    </tr>\n",
              "  </thead>\n",
              "  <tbody>\n",
              "    <tr>\n",
              "      <th>0</th>\n",
              "      <td>0.0</td>\n",
              "      <td>0.0</td>\n",
              "      <td>0</td>\n",
              "      <td>A</td>\n",
              "    </tr>\n",
              "    <tr>\n",
              "      <th>1</th>\n",
              "      <td>0.0</td>\n",
              "      <td>0.0</td>\n",
              "      <td>0</td>\n",
              "      <td>B</td>\n",
              "    </tr>\n",
              "    <tr>\n",
              "      <th>2</th>\n",
              "      <td>0.0</td>\n",
              "      <td>0.0</td>\n",
              "      <td>0</td>\n",
              "      <td>A</td>\n",
              "    </tr>\n",
              "  </tbody>\n",
              "</table>\n",
              "</div>"
            ],
            "text/plain": [
              "   revenue  num_purchases  purchase ab_group\n",
              "0      0.0            0.0         0        A\n",
              "1      0.0            0.0         0        B\n",
              "2      0.0            0.0         0        A"
            ]
          },
          "execution_count": 24,
          "metadata": {},
          "output_type": "execute_result"
        }
      ],
      "source": [
        "data.head(3)"
      ]
    },
    {
      "cell_type": "code",
      "execution_count": null,
      "metadata": {
        "id": "NDnZB8ZxS0U4",
        "outputId": "4336adbd-e0ea-4d74-aa80-46d2426e8053"
      },
      "outputs": [
        {
          "data": {
            "text/plain": [
              "0    23162\n",
              "1      490\n",
              "Name: purchase, dtype: int64"
            ]
          },
          "execution_count": 25,
          "metadata": {},
          "output_type": "execute_result"
        }
      ],
      "source": [
        "data['purchase'].value_counts()"
      ]
    },
    {
      "cell_type": "markdown",
      "metadata": {
        "id": "BushtNtJS0U5"
      },
      "source": [
        "Столбец purchase - это как раз таки бинарный показатель, является ли пользователем платящим или нет.\n",
        "\n",
        "Наиболее очевидным статистическим критерием для нашего случая выглядит z-критерий."
      ]
    },
    {
      "cell_type": "markdown",
      "metadata": {
        "id": "FXNMQzmxS0U5"
      },
      "source": [
        "Давайте здесь сделаем шаг назад и поймем, а что нам вообще может \"рассказать\" статистический критерий (тест)"
      ]
    },
    {
      "cell_type": "markdown",
      "metadata": {
        "id": "CRxlCLmES0U5"
      },
      "source": [
        "#### Как обычно проходит тест:\n",
        "\n",
        "1. случайно разбиваем аудиторию на две группы: A (обычно ее называют \"контролем\") и B (группа \"экспериментальная\")\n",
        "2. группа А - текущий вариант модели в проде. Группа B - наша новая модель\n",
        "3. по окончанию эксперимента мы сравниваем бизнес-метрику (вероятно даже не одну) в каждой из групп с помощью <b>статистического теста</b>"
      ]
    },
    {
      "cell_type": "markdown",
      "metadata": {
        "id": "NlFK76YBS0U5"
      },
      "source": [
        "У нас 2 гипотезы:\n",
        "- \"нулевая\" (H0) - наблюдаемые различия незначимы\n",
        "- \"альтернативная\" (H1) - различия значимы"
      ]
    },
    {
      "cell_type": "markdown",
      "metadata": {
        "id": "vBMhsaovS0U5"
      },
      "source": [
        "Мы хотим получить вероятность того, что наблюдаемые различия неслучайны!"
      ]
    },
    {
      "cell_type": "markdown",
      "metadata": {
        "id": "MsBOTp0YS0U5"
      },
      "source": [
        "#### Вопрос 7\n",
        "Будет ли сам факт различия двух метрик (конверсий, к примеру) говорить нам о том, что варианты отличаются?\n",
        "\n",
        "Нет, важно на сколько они будут отличаться."
      ]
    },
    {
      "cell_type": "markdown",
      "metadata": {
        "id": "FhSKaJJuS0U5"
      },
      "source": [
        "#### Вопрос 8\n",
        "\n",
        "Если вы получаете p_value, равный 0.01 - это много или мало?\n",
        "\n",
        "Все зависит от опорной величины.\n",
        "\n",
        "вероятность получить для данной вероятностной модели распределения значений случайной величины такое же или более экстремальное значение статистики (среднего арифметического, медианы и др.), по сравнению с ранее наблюдаемым, при условии, что нулевая гипотеза верна.\n"
      ]
    },
    {
      "cell_type": "markdown",
      "metadata": {
        "id": "e-ZFM2o6S0U6"
      },
      "source": [
        "#### Теперь к нашей первой метрике - конверсии в платящего (у нас это столбец purchase)\n",
        "\n",
        "Т.к у нас метрика - доля (конверсия), то применяем z-критерий"
      ]
    },
    {
      "cell_type": "markdown",
      "metadata": {
        "id": "pksyxQnyS0U6"
      },
      "source": [
        "![z_score](z_score.png \"Z score\")"
      ]
    },
    {
      "cell_type": "markdown",
      "metadata": {
        "id": "UMT1f6aES0U6"
      },
      "source": [
        "Гипотезы"
      ]
    },
    {
      "cell_type": "markdown",
      "metadata": {
        "id": "MkUvlvbJS0U6"
      },
      "source": [
        "![z_score_H01](z_score_H01.png \"Z score H0/H1\")"
      ]
    },
    {
      "cell_type": "markdown",
      "metadata": {
        "id": "4492mLgAS0U6"
      },
      "source": [
        "Применим z-критерий"
      ]
    },
    {
      "cell_type": "markdown",
      "metadata": {
        "id": "NtFdr_8YS0U6"
      },
      "source": [
        "![z_score_SE](z_score_SE.png \"Z score SE\")"
      ]
    },
    {
      "cell_type": "markdown",
      "metadata": {
        "id": "OQ4INxPdS0U6"
      },
      "source": [
        "- В числителе - разность выборочных конверсий (получившихся в результате эксперимента)\n",
        "- В знаменателе - так называемая стандартная ошибка среднего (SE)"
      ]
    },
    {
      "cell_type": "markdown",
      "metadata": {
        "id": "91frAD2yS0U7"
      },
      "source": [
        "Посчитаем z-критерий \"вручную\""
      ]
    },
    {
      "cell_type": "code",
      "execution_count": null,
      "metadata": {
        "id": "tjHy_TThS0U7",
        "outputId": "bd55d981-648c-4a24-ee89-e9373cd9bf9c"
      },
      "outputs": [
        {
          "data": {
            "text/plain": [
              "(256, 234, 11835, 11817)"
            ]
          },
          "execution_count": 26,
          "metadata": {},
          "output_type": "execute_result"
        }
      ],
      "source": [
        "import numpy as np\n",
        "\n",
        "\n",
        "z_crit_value = 1.96 #соответствует доверительному интервалу в 95%\n",
        "k1, n1 = data[data['ab_group']=='A']['purchase'].sum(), data[data['ab_group']=='A'].shape[0]\n",
        "k2, n2 = data[data['ab_group']=='B']['purchase'].sum(), data[data['ab_group']=='B'].shape[0]\n",
        "k1, k2, n1, n2"
      ]
    },
    {
      "cell_type": "markdown",
      "metadata": {
        "id": "TaKjZikbS0U7"
      },
      "source": [
        "Посчитаем выборочные p1, p2:"
      ]
    },
    {
      "cell_type": "code",
      "execution_count": null,
      "metadata": {
        "id": "uvAGlEPtS0U7",
        "outputId": "fea3426c-1a0c-4a9f-99b0-38ae9142321a"
      },
      "outputs": [
        {
          "data": {
            "text/plain": [
              "(0.02163075623151669, 0.019801980198019802)"
            ]
          },
          "execution_count": 27,
          "metadata": {},
          "output_type": "execute_result"
        }
      ],
      "source": [
        "p1, p2 = k1/n1, k2/n2\n",
        "p1, p2"
      ]
    },
    {
      "cell_type": "markdown",
      "metadata": {
        "id": "0pEdA4-jS0U7"
      },
      "source": [
        "Посчитаем z-score:\n",
        "\n",
        "![z_score_SE](z_score_SE.png \"Z score SE\")"
      ]
    },
    {
      "cell_type": "code",
      "execution_count": null,
      "metadata": {
        "id": "L9pNFjWyS0U7",
        "outputId": "a867b3cc-bad5-4114-c683-c6fa40fbd779"
      },
      "outputs": [
        {
          "data": {
            "text/plain": [
              "0.987293179904521"
            ]
          },
          "execution_count": 28,
          "metadata": {},
          "output_type": "execute_result"
        }
      ],
      "source": [
        "P = (p1*n1+p2*n2)/(n1+n2)\n",
        "z = (p1-p2)/(P*(1-P)*(1/n1+1/n2))**(1/2)\n",
        "z"
      ]
    },
    {
      "cell_type": "markdown",
      "metadata": {
        "id": "JYHFkoxNS0U7"
      },
      "source": [
        "Сравним полученное значение с критическим, выбранным ранее"
      ]
    },
    {
      "cell_type": "code",
      "execution_count": null,
      "metadata": {
        "id": "7r57xheTS0U8",
        "outputId": "b768a204-1334-403f-b282-07d670144aab"
      },
      "outputs": [
        {
          "name": "stdout",
          "output_type": "stream",
          "text": [
            "We have failed to reject the null hypothesis\n"
          ]
        }
      ],
      "source": [
        "if abs(z) > z_crit_value:\n",
        "    print(\"We may reject the null hypothesis!\")\n",
        "else:\n",
        "    print(\"We have failed to reject the null hypothesis\")"
      ]
    },
    {
      "cell_type": "markdown",
      "metadata": {
        "id": "TI4WyAUqS0U8"
      },
      "source": [
        "#### z-критерий, но уже воспользуемся возможностями библиотеки"
      ]
    },
    {
      "cell_type": "code",
      "execution_count": null,
      "metadata": {
        "id": "PfeMtTNNS0U8",
        "outputId": "ad2b4e23-a77b-4b68-a272-7877b544a31e"
      },
      "outputs": [
        {
          "name": "stdout",
          "output_type": "stream",
          "text": [
            "Results are  z_score =0.987, pvalue = 0.323\n"
          ]
        }
      ],
      "source": [
        "from statsmodels.stats import proportion\n",
        "\n",
        "z_score, z_pvalue = proportion.proportions_ztest(np.array([k1, k2]), \n",
        "                                                   np.array([n1, n2]))\n",
        "print('Results are ','z_score =%.3f, pvalue = %.3f'%(z_score, z_pvalue))"
      ]
    },
    {
      "cell_type": "markdown",
      "metadata": {
        "id": "wflRuRp7S0U8"
      },
      "source": [
        "#### давайте сразу же и непараметрический критерий посмотрим (хи-квадрат)"
      ]
    },
    {
      "cell_type": "code",
      "execution_count": null,
      "metadata": {
        "id": "vymRffIKS0U8",
        "outputId": "fa849275-b7ea-43d7-b316-f3da1e5bf206"
      },
      "outputs": [
        {
          "name": "stdout",
          "output_type": "stream",
          "text": [
            "Results are  chisq =0.975, pvalue = 0.323\n"
          ]
        }
      ],
      "source": [
        "chisq, pvalue, table = proportion.proportions_chisquare(np.array([k1, k2]), \n",
        "                                                   np.array([n1, n2]))\n",
        "\n",
        "print('Results are ','chisq =%.3f, pvalue = %.3f'%(chisq, pvalue))"
      ]
    },
    {
      "cell_type": "markdown",
      "metadata": {
        "id": "0QkBQBALS0U9"
      },
      "source": [
        "### Что насчет других метрик?"
      ]
    },
    {
      "cell_type": "markdown",
      "metadata": {
        "id": "Cfg_ddudS0U9"
      },
      "source": [
        "Критерий мана-уитни для среднего чека (z-критерий уже не годится)"
      ]
    },
    {
      "cell_type": "code",
      "execution_count": null,
      "metadata": {
        "scrolled": true,
        "id": "B8xymweeS0U9",
        "outputId": "6fe7a57d-c956-4150-903e-1b1fc6f7bec3"
      },
      "outputs": [
        {
          "data": {
            "text/html": [
              "<div>\n",
              "<style scoped>\n",
              "    .dataframe tbody tr th:only-of-type {\n",
              "        vertical-align: middle;\n",
              "    }\n",
              "\n",
              "    .dataframe tbody tr th {\n",
              "        vertical-align: top;\n",
              "    }\n",
              "\n",
              "    .dataframe thead th {\n",
              "        text-align: right;\n",
              "    }\n",
              "</style>\n",
              "<table border=\"1\" class=\"dataframe\">\n",
              "  <thead>\n",
              "    <tr style=\"text-align: right;\">\n",
              "      <th></th>\n",
              "      <th>count</th>\n",
              "      <th>mean</th>\n",
              "      <th>std</th>\n",
              "      <th>min</th>\n",
              "      <th>25%</th>\n",
              "      <th>50%</th>\n",
              "      <th>75%</th>\n",
              "      <th>max</th>\n",
              "    </tr>\n",
              "    <tr>\n",
              "      <th>ab_group</th>\n",
              "      <th></th>\n",
              "      <th></th>\n",
              "      <th></th>\n",
              "      <th></th>\n",
              "      <th></th>\n",
              "      <th></th>\n",
              "      <th></th>\n",
              "      <th></th>\n",
              "    </tr>\n",
              "  </thead>\n",
              "  <tbody>\n",
              "    <tr>\n",
              "      <th>A</th>\n",
              "      <td>11835.0</td>\n",
              "      <td>0.404462</td>\n",
              "      <td>13.133218</td>\n",
              "      <td>0.0</td>\n",
              "      <td>0.0</td>\n",
              "      <td>0.0</td>\n",
              "      <td>0.0</td>\n",
              "      <td>1303.609284</td>\n",
              "    </tr>\n",
              "    <tr>\n",
              "      <th>B</th>\n",
              "      <td>11817.0</td>\n",
              "      <td>0.244794</td>\n",
              "      <td>3.176534</td>\n",
              "      <td>0.0</td>\n",
              "      <td>0.0</td>\n",
              "      <td>0.0</td>\n",
              "      <td>0.0</td>\n",
              "      <td>113.830000</td>\n",
              "    </tr>\n",
              "  </tbody>\n",
              "</table>\n",
              "</div>"
            ],
            "text/plain": [
              "            count      mean        std  min  25%  50%  75%          max\n",
              "ab_group                                                               \n",
              "A         11835.0  0.404462  13.133218  0.0  0.0  0.0  0.0  1303.609284\n",
              "B         11817.0  0.244794   3.176534  0.0  0.0  0.0  0.0   113.830000"
            ]
          },
          "execution_count": 32,
          "metadata": {},
          "output_type": "execute_result"
        }
      ],
      "source": [
        "data.groupby('ab_group')['revenue'].describe()"
      ]
    },
    {
      "cell_type": "markdown",
      "metadata": {
        "id": "e9QBWX5JS0U9"
      },
      "source": [
        "Мы видим, что вроде бы различия серьезные, но понимаем при этом, что все дело скорее всего в выбросах (а среднее у нас к ним не очень устойчиво)"
      ]
    },
    {
      "cell_type": "code",
      "execution_count": null,
      "metadata": {
        "id": "vxxMs7hdS0U9",
        "outputId": "0f760b12-f219-472e-d633-6920c6f20b4a"
      },
      "outputs": [
        {
          "data": {
            "text/plain": [
              "MannwhitneyuResult(statistic=70054756.0, pvalue=0.3243889561742552)"
            ]
          },
          "execution_count": 33,
          "metadata": {},
          "output_type": "execute_result"
        }
      ],
      "source": [
        "from scipy.stats import mannwhitneyu\n",
        "\n",
        "mw_stats = mannwhitneyu(x=data[data['ab_group'] == 'A']['revenue'].values,\n",
        "                                                  y=data[data['ab_group'] == 'B']['revenue'].values)\n",
        "mw_stats"
      ]
    },
    {
      "cell_type": "markdown",
      "metadata": {
        "id": "mqpdxFUmS0U-"
      },
      "source": [
        "Критерий Манна-Уитни нам <b>не позволяет</b> принять альтернативную гипотезу о разнице arpu"
      ]
    },
    {
      "cell_type": "markdown",
      "metadata": {
        "id": "kWc-dSuqS0U-"
      },
      "source": [
        "#### Может быть среднее количество покупок на пользователя отличается?"
      ]
    },
    {
      "cell_type": "code",
      "execution_count": null,
      "metadata": {
        "id": "JVuqAZUCS0U-",
        "outputId": "8066405e-e0df-4881-a861-294e29497b9b"
      },
      "outputs": [
        {
          "data": {
            "text/plain": [
              "MannwhitneyuResult(statistic=70054599.0, pvalue=0.3249718497892071)"
            ]
          },
          "execution_count": 34,
          "metadata": {},
          "output_type": "execute_result"
        }
      ],
      "source": [
        "mw_stats = mannwhitneyu(x=data[data['ab_group'] == 'A']['num_purchases'].values,\n",
        "                                                  y=data[data['ab_group'] == 'B']['num_purchases'].values)\n",
        "mw_stats"
      ]
    },
    {
      "cell_type": "markdown",
      "metadata": {
        "id": "vyPdFjyvS0U-"
      },
      "source": [
        "#### Давайте еще посмотрим на arppu (average revenue per paying user)"
      ]
    },
    {
      "cell_type": "code",
      "execution_count": null,
      "metadata": {
        "id": "9c9GZCi8S0U-",
        "outputId": "78ecc43b-075b-464f-8bee-9916fc318a69"
      },
      "outputs": [
        {
          "data": {
            "text/plain": [
              "MannwhitneyuResult(statistic=29729.5, pvalue=0.8871956616344514)"
            ]
          },
          "execution_count": 35,
          "metadata": {},
          "output_type": "execute_result"
        }
      ],
      "source": [
        "mw_stats = mannwhitneyu(x=data[(data['ab_group'] == 'A')&(data['purchase'] == 1)]['revenue'].values,\n",
        "                                                  y=data[(data['ab_group'] == 'B')&(data['purchase'] == 1)]['revenue'].values)\n",
        "mw_stats"
      ]
    },
    {
      "cell_type": "code",
      "execution_count": null,
      "metadata": {
        "id": "ocoEz3PsS0U-",
        "outputId": "f84b602d-2b69-48e8-8b2f-65ee11543aa0"
      },
      "outputs": [
        {
          "data": {
            "text/html": [
              "<div>\n",
              "<style scoped>\n",
              "    .dataframe tbody tr th:only-of-type {\n",
              "        vertical-align: middle;\n",
              "    }\n",
              "\n",
              "    .dataframe tbody tr th {\n",
              "        vertical-align: top;\n",
              "    }\n",
              "\n",
              "    .dataframe thead th {\n",
              "        text-align: right;\n",
              "    }\n",
              "</style>\n",
              "<table border=\"1\" class=\"dataframe\">\n",
              "  <thead>\n",
              "    <tr style=\"text-align: right;\">\n",
              "      <th></th>\n",
              "      <th>count</th>\n",
              "      <th>mean</th>\n",
              "      <th>std</th>\n",
              "      <th>min</th>\n",
              "      <th>25%</th>\n",
              "      <th>50%</th>\n",
              "      <th>75%</th>\n",
              "      <th>max</th>\n",
              "    </tr>\n",
              "    <tr>\n",
              "      <th>ab_group</th>\n",
              "      <th></th>\n",
              "      <th></th>\n",
              "      <th></th>\n",
              "      <th></th>\n",
              "      <th></th>\n",
              "      <th></th>\n",
              "      <th></th>\n",
              "      <th></th>\n",
              "    </tr>\n",
              "  </thead>\n",
              "  <tbody>\n",
              "    <tr>\n",
              "      <th>A</th>\n",
              "      <td>256.0</td>\n",
              "      <td>18.698469</td>\n",
              "      <td>87.527589</td>\n",
              "      <td>0.259689</td>\n",
              "      <td>2.318301</td>\n",
              "      <td>4.28316</td>\n",
              "      <td>11.923141</td>\n",
              "      <td>1303.609284</td>\n",
              "    </tr>\n",
              "    <tr>\n",
              "      <th>B</th>\n",
              "      <td>234.0</td>\n",
              "      <td>12.362119</td>\n",
              "      <td>19.007065</td>\n",
              "      <td>0.259373</td>\n",
              "      <td>2.319883</td>\n",
              "      <td>3.98000</td>\n",
              "      <td>12.274829</td>\n",
              "      <td>113.830000</td>\n",
              "    </tr>\n",
              "  </tbody>\n",
              "</table>\n",
              "</div>"
            ],
            "text/plain": [
              "          count       mean        std       min       25%      50%        75%  \\\n",
              "ab_group                                                                        \n",
              "A         256.0  18.698469  87.527589  0.259689  2.318301  4.28316  11.923141   \n",
              "B         234.0  12.362119  19.007065  0.259373  2.319883  3.98000  12.274829   \n",
              "\n",
              "                  max  \n",
              "ab_group               \n",
              "A         1303.609284  \n",
              "B          113.830000  "
            ]
          },
          "execution_count": 36,
          "metadata": {},
          "output_type": "execute_result"
        }
      ],
      "source": [
        "data[data['purchase'] == 1].groupby('ab_group')['revenue'].describe()"
      ]
    },
    {
      "cell_type": "markdown",
      "metadata": {
        "id": "Ra42XA0pS0U_"
      },
      "source": [
        "### Выводы:\n",
        "\n",
        "1. ни по одной из метрик мы не видим значимых различий\n",
        "2. скорее всего слишком мало данных для выводов (учитывая базовую конверсию в 2 процента)\n",
        "3. мы также можем посчитать сколько нам понадобится приблизительно пользователей в каждой из групп, чтобы при такой конверсии получить значимость (для этого нам нужно делать предположение о том, какое минимальное изменение нас устраивает - минимально значимый эффект)**\n",
        "\n",
        "** например, мы хотим, чтобы конверсия выросла хотя бы на 10% "
      ]
    },
    {
      "cell_type": "markdown",
      "metadata": {
        "id": "sYkRpJ2TS0U_"
      },
      "source": [
        "### Важные моменты"
      ]
    },
    {
      "cell_type": "markdown",
      "metadata": {
        "id": "upNA3tGdS0U_"
      },
      "source": [
        "### 1. как может быть устроено разбиение выборки на группы"
      ]
    },
    {
      "cell_type": "markdown",
      "metadata": {
        "id": "yqBRsoSWS0U_"
      },
      "source": [
        "Часто для этого используется отдельный сервис, который умеет для выбранного user_id возвращать группу (причем в рамках одного теста одну и ту же)"
      ]
    },
    {
      "cell_type": "markdown",
      "metadata": {
        "id": "LnAoBemoS0U_"
      },
      "source": [
        "Основные способы разбиения:"
      ]
    },
    {
      "cell_type": "markdown",
      "metadata": {
        "id": "Kxi9f_VvS0U_"
      },
      "source": [
        "### Random\n",
        "\n",
        "<img src=\"sampling_random.png\" alt=\"random split\" style=\"width: 600px;\" align=\"center\"/>"
      ]
    },
    {
      "cell_type": "markdown",
      "metadata": {
        "id": "Zm7awZg2S0U_"
      },
      "source": [
        "### Stratified random\n",
        "\n",
        "<img src=\"sampling_stratified.png\" alt=\"strat random split\" style=\"width: 600px;\" align=\"center\"/>"
      ]
    },
    {
      "cell_type": "markdown",
      "metadata": {
        "id": "NiY6IU3ZS0VA"
      },
      "source": [
        "Какой вариант предпочтительнее - ответ зависит от объемов аудитории преимущественно и того, насколько смещенной получается случайная выборка относительно генеральной совокупности"
      ]
    },
    {
      "cell_type": "markdown",
      "metadata": {
        "id": "i8PSqkc_S0VA"
      },
      "source": [
        "### 2. Контрольный сегмент (как оценить вклад ML-решения в целом)"
      ]
    },
    {
      "cell_type": "markdown",
      "metadata": {
        "id": "8tP_pNrBS0VA"
      },
      "source": [
        "Таким образом, у нас теперь есть представление, как сравнивать между собой разные варианты. \n",
        "\n",
        "Однако на практике также может возникнуть вопрос, а какой вклад ML в целом. Т.е если мы представим ситуацию, что никаких изменений на основе ML нет, так бы выглядел сервис в таком случае? (в плане бизнес-метрик)"
      ]
    },
    {
      "cell_type": "markdown",
      "metadata": {
        "id": "Olhe07d2S0VA"
      },
      "source": [
        "Чтобы ответить на этот вопрос, иногда выделяют так называемый <b>контрольный сегмент</b> - пользователей, которых никогда не затрагивают изменения на базе машинного обучения.\n",
        "\n",
        "Например, если мы внедряем систему рекомендаций, то пользователи из контрольного сегмента не увидят эти рекомендации. \n",
        "\n",
        "Обычно контрольный сегмент небольшой."
      ]
    },
    {
      "cell_type": "markdown",
      "metadata": {
        "id": "-NWI1oyyS0VA"
      },
      "source": [
        "### 3. Когда вариантов несколько"
      ]
    },
    {
      "cell_type": "markdown",
      "metadata": {
        "id": "n6-yW_-SS0VB"
      },
      "source": [
        "1. поправка Бонферонни - https://en.wikipedia.org/wiki/Bonferroni_correction\n",
        "\n",
        "Идея простая - для каждого попарного сравнения (пусть будет m таких сравнений) заменить alpha на alpha/m\n"
      ]
    },
    {
      "cell_type": "markdown",
      "metadata": {
        "id": "u8sxS4_NS0VB"
      },
      "source": [
        "Прекрасная ссылка для чтения на дом - https://changyaochen.github.io/multiple-comparisons-jun-2020/"
      ]
    },
    {
      "cell_type": "markdown",
      "metadata": {
        "id": "6Snutox6S0VB"
      },
      "source": [
        "### Домашнее задание\n",
        "\n",
        "#### 1. Если мы рассчитали 95% доверительный интервал для среднего значения, то какие из следующих утверждений являются верными?\n",
        "\n",
        "Выберите несколько вариантов и попытайтесь объяснить свой выбор:\n",
        "\n",
        "1) Если многократно повторять эксперимент, то 95 % выборочных средних значений будут принадлежать рассчитанному нами доверительному интервалу.\n",
        "\n",
        "2) Мы можем быть на 95% уверены, что среднее значение в генеральной совокупности принадлежит рассчитанному доверительному интервалу.\n",
        "\n",
        "3) Если многократно повторять эксперимент, для каждой выборки рассчитывать свой доверительный интервал, то в 95 % случаев истинное среднее будет находиться внутри доверительного интервала.\n",
        "\n",
        "4) Среднее значение в генеральной совокупности точно превышает нижнюю границу 95% доверительного интервала.\n",
        "\n",
        "5) Среднее значение в генеральной совокупности точно принадлежит рассчитанному доверительному интервалу.\n",
        "\n",
        "1, 3, 4, 5 - так как в доверительный интреавл входит 95% значений всей выборки. \n",
        "\n",
        "#### 2. Если мы увеличиваем объем выборки в два раза (при условии, что показатель стандартного отклонения остается неизменным), то 95% доверительный интервал\n",
        "\n",
        "Выберите один вариант из списка\n",
        "\n",
        "1) стал более узким\n",
        "2) возможны оба варианта\n",
        "3) стал более широким\n",
        "\n",
        "3\n",
        "\n",
        "#### 3. В центре 95% доверительного интервала, рассчитанного по выборочным значениям, находится:\n",
        "\n",
        "Выберите один вариант из списка\n",
        "\n",
        "1) Значение стандартной ошибки среднего\n",
        "2) Выборочное среднее значение\n",
        "3) Среднее значение генеральной совокупности\n",
        "\n",
        "2.\n",
        "\n",
        "#### 4. Часто на практике нулевая гипотеза отклоняется, и различия считаются статистически достоверными, если p < 0,05. Однако часто в статистике используется более жесткий критерий достоверности различий, например, при условии, что p < 0,01. Значение p-уровня значимости, которое выбирается, в качестве порога обозначается буквой α (альфа). Например, если исследователь решил, что α = 0,05, то и нулевая гипотеза будет отклоняться при условии, что p < 0,05. \n",
        "\n",
        "#### Если в определенной ситуации весьма рискованно отклонить нулевую гипотезу, когда она на самом деле верна, то лучше использовать показатель α равный \n",
        "\n",
        "Выберите один вариант из списка\n",
        "\n",
        "1) 0,1\n",
        "2) 0,001\n",
        "3) 0,05\n",
        "4) 0,5\n",
        "\n",
        "2) 0,001\n",
        "\n",
        "#### 5. Данные некоторого исследования сообщают нам, что средний рост детей в 14 лет составляет 166 сантиметров. Однако это лишь выборочная оценка, и исследователи рассчитали 95% доверительный интервал, который составил [160, 172]. Укажите верные утверждения:\n",
        "\n",
        "Выберите несколько вариантов и попытайтесь объяснить свой выбор:\n",
        "\n",
        "1) У нас достаточно оснований отклонить нулевую гипотезу, что среднее в генеральной совокупности равняется 173\n",
        "2) Вероятность того, что истинное среднее значение больше 172, составляет 0,01\n",
        "3) У нас достаточно оснований отклонить нулевую гипотезу, что среднее в генеральной совокупности равняется 158.\n",
        "4) Доверительный интервал не может иметь такие границы, т. к. выборочное стандартное отклонение равняется 10, следовательно доверительный интервал должен быть значительно шире.\n",
        "\n",
        "1, 3 - среднее ГС лежит внутри доверителного интервала.\n",
        "\n",
        "#### 6. Предположим, нулевой гипотезой вашего исследования являлось предположение, что конверсия в генеральной совокупности равняется 0.4. Вы получили p = 0,12 и не смогли отклонить нулевую гипотезу. Однако позже выяснилось, что конверсия в генеральной совокупности действиетльно равна 0.4. Как можно оценить результаты?\n",
        "\n",
        "\n",
        "Какой вариант корректный по вашему мнению и почему?\n",
        "1) Вы не совершали ни ошибку первого рода, ни ошибку второго рода.\n",
        "2) Вы совершили ошибку первого рода\n",
        "3) Вы совершили ошибку второго рода\n",
        "\n",
        "1, зесь нет ошибки"
      ]
    }
  ],
  "metadata": {
    "kernelspec": {
      "display_name": "Python 3 (ipykernel)",
      "language": "python",
      "name": "python3"
    },
    "language_info": {
      "codemirror_mode": {
        "name": "ipython",
        "version": 3
      },
      "file_extension": ".py",
      "mimetype": "text/x-python",
      "name": "python",
      "nbconvert_exporter": "python",
      "pygments_lexer": "ipython3",
      "version": "3.9.7"
    },
    "colab": {
      "name": "HW8_AB_practice.ipynb",
      "provenance": [],
      "collapsed_sections": [
        "r4UMSXWlS0Uy",
        "AyyQnoGkS0Uz",
        "AI-uqwicS0Uz",
        "k7T2M2VbS0U0",
        "CRxlCLmES0U5",
        "MsBOTp0YS0U5",
        "FhSKaJJuS0U5",
        "e-ZFM2o6S0U6",
        "TI4WyAUqS0U8",
        "wflRuRp7S0U8",
        "kWc-dSuqS0U-",
        "vyPdFjyvS0U-"
      ],
      "include_colab_link": true
    }
  },
  "nbformat": 4,
  "nbformat_minor": 0
}